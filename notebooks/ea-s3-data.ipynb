{
 "cells": [
  {
   "cell_type": "markdown",
   "metadata": {},
   "source": [
    "# S3 Syncing\n",
    "Adds the raw and processed data to the SageMaker S3 bucket"
   ]
  },
  {
   "cell_type": "code",
   "execution_count": 1,
   "metadata": {},
   "outputs": [],
   "source": [
    "import os\n",
    "import boto3\n",
    "import re\n",
    "import copy\n",
    "import time\n",
    "import io\n",
    "import struct\n",
    "from time import gmtime, strftime\n",
    "from sagemaker import get_execution_role\n",
    "\n",
    "role = get_execution_role()\n",
    "\n",
    "region = boto3.Session().region_name\n",
    "\n",
    "bucket='sagemaker-ea-2020' # Replace with your s3 bucket name\n",
    "prefix = 'sagemaker/captcha' # Used as part of the path in the bucket where you store data\n"
   ]
  },
  {
   "cell_type": "code",
   "execution_count": 8,
   "metadata": {},
   "outputs": [
    {
     "name": "stdout",
     "output_type": "stream",
     "text": [
      "Done writing to s3://sagemaker-ea-2020/sagemaker/captcha/raw\n"
     ]
    }
   ],
   "source": [
    "data_partition_name = \"raw\"\n",
    "raw_dir = \"../data/raw\"\n",
    "f = os.path.join(raw_dir, os.listdir(\"../data/raw\")[0])\n",
    "\n",
    "key = \"{}/{}\".format(prefix,data_partition_name)\n",
    "url = 's3://{}/{}'.format(bucket, key)\n",
    "boto3.Session().resource('s3').Bucket(bucket).Object(key).upload_file(f)\n",
    "print('Done writing to {}'.format(url))"
   ]
  },
  {
   "cell_type": "code",
   "execution_count": null,
   "metadata": {},
   "outputs": [],
   "source": []
  }
 ],
 "metadata": {
  "kernelspec": {
   "display_name": "conda_python3",
   "language": "python",
   "name": "conda_python3"
  },
  "language_info": {
   "codemirror_mode": {
    "name": "ipython",
    "version": 3
   },
   "file_extension": ".py",
   "mimetype": "text/x-python",
   "name": "python",
   "nbconvert_exporter": "python",
   "pygments_lexer": "ipython3",
   "version": "3.6.10"
  }
 },
 "nbformat": 4,
 "nbformat_minor": 4
}
