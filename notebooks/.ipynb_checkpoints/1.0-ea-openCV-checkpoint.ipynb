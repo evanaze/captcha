{
 "cells": [
  {
   "cell_type": "code",
   "execution_count": 10,
   "metadata": {},
   "outputs": [],
   "source": [
    "'''\n",
    "Simple \"Square Detector\" program.\n",
    "Loads several images sequentially and tries to find squares in each image.\n",
    "'''\n",
    "\n",
    "import numpy as np\n",
    "import cv2 as cv\n",
    "import pandas as pd\n",
    "\n",
    "\n",
    "def angle_cos(p0, p1, p2):\n",
    "    d1, d2 = (p0-p1).astype('float'), (p2-p1).astype('float')\n",
    "    return abs( np.dot(d1, d2) / np.sqrt( np.dot(d1, d1)*np.dot(d2, d2) ) )\n",
    "\n",
    "def find_squares(img):\n",
    "    img = cv.GaussianBlur(img, (5, 5), 0)\n",
    "    squares = []\n",
    "    for gray in cv.split(img):\n",
    "        for thrs in range(0, 255, 26):\n",
    "            if thrs == 0:\n",
    "                bin = cv.Canny(gray, 0, 50, apertureSize=5)\n",
    "                bin = cv.dilate(bin, None)\n",
    "            else:\n",
    "                _retval, bin = cv.threshold(gray, thrs, 255, cv.THRESH_BINARY)\n",
    "            contours, _hierarchy = cv.findContours(bin, cv.RETR_LIST, cv.CHAIN_APPROX_SIMPLE)\n",
    "            for cnt in contours:\n",
    "                cnt_len = cv.arcLength(cnt, True)\n",
    "                cnt = cv.approxPolyDP(cnt, 0.02*cnt_len, True)\n",
    "                if len(cnt) == 4 and cv.contourArea(cnt) > 1000 and cv.isContourConvex(cnt):\n",
    "                    cnt = cnt.reshape(-1, 2)\n",
    "                    max_cos = np.max([angle_cos( cnt[i], cnt[(i+1) % 4], cnt[(i+2) % 4] ) for i in range(4)])\n",
    "                    if max_cos < 0.1:\n",
    "                        squares.append(cnt)\n",
    "    return squares\n",
    "\n",
    "def main():\n",
    "    from glob import glob\n",
    "    for fn in glob('../data/pic*.png'):\n",
    "        img = cv.imread(fn)\n",
    "        squares = find_squares(img)\n",
    "        cv.drawContours( img, squares, -1, (0, 255, 0), 3 )\n",
    "        cv.imshow('squares', img)\n",
    "        ch = cv.waitKey()\n",
    "        if ch == 27:\n",
    "            break\n",
    "\n",
    "    print('Done')"
   ]
  },
  {
   "cell_type": "code",
   "execution_count": null,
   "metadata": {},
   "outputs": [],
   "source": [
    "import numpy as np\n",
    "import cv2 as cv\n",
    "import pandas as pd\n",
    "from matplotlib import pyplot as plt\n",
    "\n",
    "# test one image, should be able to find one square\n",
    "train = pd.read_csv(\"../input/train.csv\")\n",
    "test = pd.read_csv(\"../input/test.csv\")\n",
    "data_dir = \"../input/captcha_named/\"\n",
    "X_train, y_train = [], []\n",
    "X_test, y_test = [], []\n",
    "\n",
    "img_loc = data_dir+train.filename.values[0]\n",
    "\n",
    "img = cv.imread(img_loc)\n",
    "squares = find_squares(img)\n",
    "cv.drawContours( img, squares, -1, (0, 255, 0), 3 )\n",
    "cv.imshow('squares', img)\n",
    "ch = cv.waitKey()"
   ]
  },
  {
   "cell_type": "code",
   "execution_count": 2,
   "metadata": {
    "scrolled": true
   },
   "outputs": [
    {
     "data": {
      "text/plain": [
       "0"
      ]
     },
     "execution_count": 2,
     "metadata": {},
     "output_type": "execute_result"
    }
   ],
   "source": [
    "import numpy as np\n",
    "import cv2 as cv\n",
    "import pandas as pd\n",
    "from matplotlib import pyplot as plt\n",
    "\n",
    "train = pd.read_csv(\"../input/train.csv\")\n",
    "data_dir = \"../input/captcha_named/\"\n",
    "\n",
    "def angle_cos(p0, p1, p2):\n",
    "    d1, d2 = (p0-p1).astype('float'), (p2-p1).astype('float')\n",
    "    return abs( np.dot(d1, d2) / np.sqrt( np.dot(d1, d1)*np.dot(d2, d2) ) )\n",
    "\n",
    "img_loc = data_dir+train.filename.values[0]\n",
    "\n",
    "img = cv.imread(img_loc)\n",
    "img = cv.GaussianBlur(img, (5, 5), 0)\n",
    "squares = []\n",
    "for gray in cv.split(img): # splits into mono-channel\n",
    "    bin = cv.Canny(gray, 0, 50, apertureSize=5)\n",
    "    bin = cv.dilate(bin, None)\n",
    "    contours, _hierarchy = cv.findContours(bin, cv.RETR_LIST, cv.CHAIN_APPROX_SIMPLE)\n",
    "    for cnt in contours:\n",
    "        cnt_len = cv.arcLength(cnt, True)\n",
    "        cnt = cv.approxPolyDP(cnt, 0.02*cnt_len, True)\n",
    "        if len(cnt) == 4 and cv.contourArea(cnt) > 1000 and cv.isContourConvex(cnt):\n",
    "            cnt = cnt.reshape(-1, 2)\n",
    "            max_cos = np.max([angle_cos( cnt[i], cnt[(i+1) % 4], cnt[(i+2) % 4] ) for i in range(4)])\n",
    "            if max_cos < 0.1:\n",
    "                squares.append(cnt)\n",
    "len(squares)"
   ]
  },
  {
   "cell_type": "code",
   "execution_count": 8,
   "metadata": {},
   "outputs": [
    {
     "ename": "error",
     "evalue": "OpenCV(4.2.0) /Users/travis/build/skvark/opencv-python/opencv/modules/imgproc/src/contours.cpp:197: error: (-210:Unsupported format or combination of formats) [Start]FindContours supports only CV_8UC1 images when mode != CV_RETR_FLOODFILL otherwise supports CV_32SC1 images only in function 'cvStartFindContours_Impl'\n",
     "output_type": "error",
     "traceback": [
      "\u001b[0;31m---------------------------------------------------------------------------\u001b[0m",
      "\u001b[0;31merror\u001b[0m                                     Traceback (most recent call last)",
      "\u001b[0;32m<ipython-input-8-80fe4f24086e>\u001b[0m in \u001b[0;36m<module>\u001b[0;34m\u001b[0m\n\u001b[0;32m----> 1\u001b[0;31m \u001b[0mcv\u001b[0m\u001b[0;34m.\u001b[0m\u001b[0mfindContours\u001b[0m\u001b[0;34m(\u001b[0m\u001b[0mimg\u001b[0m\u001b[0;34m,\u001b[0m \u001b[0mcv\u001b[0m\u001b[0;34m.\u001b[0m\u001b[0mRETR_LIST\u001b[0m\u001b[0;34m,\u001b[0m \u001b[0mcv\u001b[0m\u001b[0;34m.\u001b[0m\u001b[0mCHAIN_APPROX_SIMPLE\u001b[0m\u001b[0;34m)\u001b[0m\u001b[0;34m\u001b[0m\u001b[0;34m\u001b[0m\u001b[0m\n\u001b[0m",
      "\u001b[0;31merror\u001b[0m: OpenCV(4.2.0) /Users/travis/build/skvark/opencv-python/opencv/modules/imgproc/src/contours.cpp:197: error: (-210:Unsupported format or combination of formats) [Start]FindContours supports only CV_8UC1 images when mode != CV_RETR_FLOODFILL otherwise supports CV_32SC1 images only in function 'cvStartFindContours_Impl'\n"
     ]
    }
   ],
   "source": [
    "cv.findContours(img, cv.RETR_LIST, cv.CHAIN_APPROX_SIMPLE)"
   ]
  },
  {
   "cell_type": "code",
   "execution_count": null,
   "metadata": {},
   "outputs": [],
   "source": [
    "train = pd.read_csv(\"../input/train.csv\")\n",
    "test = pd.read_csv(\"../input/test.csv\")\n",
    "data_dir = \"../input/captcha_named/\"\n",
    "X_train, y_train = [], []\n",
    "X_test, y_test = [], []\n",
    "\n",
    "for i, f_name in enumerate(train.filename.values):\n",
    "    img = cv.imread(data_dir+f_name)\n",
    "    X_train.append(img.flatten())\n",
    "    y_train.append(train.loc[i, \"target\"])\n",
    "\n",
    "for i, f_name in enumerate(train.filename.values):\n",
    "    img = cv.imread(data_dir+f_name)\n",
    "    squares = find_squares(img)\n",
    "    cv.drawContours( img, squares, -1, (0, 255, 0), 3 )\n",
    "    cv.imshow('squares', img)\n",
    "    ch = cv.waitKey()\n",
    "    if ch == 27:\n",
    "        break\n",
    "\n",
    "print('Done')"
   ]
  }
 ],
 "metadata": {
  "kernelspec": {
   "display_name": "Python 3.7.7 64-bit ('captcha': venv)",
   "language": "python",
   "name": "python37764bitcaptchavenvfa8cd3822ff54d0f9e393916a54c6321"
  },
  "language_info": {
   "codemirror_mode": {
    "name": "ipython",
    "version": 3
   },
   "file_extension": ".py",
   "mimetype": "text/x-python",
   "name": "python",
   "nbconvert_exporter": "python",
   "pygments_lexer": "ipython3",
   "version": "3.7.7"
  }
 },
 "nbformat": 4,
 "nbformat_minor": 4
}
